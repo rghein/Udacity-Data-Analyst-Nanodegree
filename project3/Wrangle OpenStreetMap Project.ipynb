{
 "cells": [
  {
   "cell_type": "markdown",
   "metadata": {},
   "source": [
    "# Udacity Data Wrangling with MongoDB\n",
    "\n",
    "### Wrangle OpenStreetMaps Project - Greg Hein\n",
    "\n",
    "The map data is taken from MapZen:\n",
    "\n",
    "https://mapzen.com/data/metro-extracts\n",
    "\n",
    "The data chosen to investigate is the OSM XML data for Milwaukee, WI, United States: \n",
    "\n",
    "https://www.openstreetmap.org/relation/251075 \n",
    "\n",
    "That data is avaliable here:\n",
    "\n",
    "https://s3.amazonaws.com/metro-extracts.mapzen.com/milwaukee_wisconsin.osm.bz2\n",
    "\n",
    "The data was analyzed by importing the OSM XML file found above, cleaning and converting \n",
    "to JSON.  That JSON file was then loaded into a MongoDB Database, and was analyzed \n",
    "using MongoDB queries with the help of the pymongo package for the Python programming\n",
    "language.  \n",
    "\n"
   ]
  },
  {
   "cell_type": "markdown",
   "metadata": {},
   "source": [
    "## 1. Problems in the Data Set\n",
    "\n",
    "### A. Multiple Street Type Abbreviations\n",
    "\n",
    "A condensed version of the data was created by filtering out all data fields that\n",
    "did not contain address information.  After visually inspecting that file, it was \n",
    "determined that there were multiple instances where the street type (eg. Avenue, Street,\n",
    "Boulevard, Road) was inputted with multiple types of abbreviations in the data set.\n",
    "The data was cleaned to remove all abbreviations and replace with the entire word.  \n",
    "\n",
    "### B. Multiple Compass Direction Abbreviations\n",
    "\n",
    "Also, when inspecting the condensed file, it became evident there was a similar problem\n",
    "to the street type problem listed above.  Specifically many street names began with a compass\n",
    "direction (North, South, East, and West) but in many cases those were abbreviated, and not \n",
    "consistently.  The data was cleaned to remove all of the abbreviated compass directions and \n",
    "replace them with the entire word.\n",
    "\n",
    "### C. Minimal Detail in Data\n",
    "\n",
    "A visual inspection of portions of the large datafile seemed to suggest that most nodes in the database\n",
    "were strictly there to store latitude and longitude, most likely to help define the ways in the database.\n",
    "Those nodes did not look to be storing more detailed information, such as address fields, building \n",
    "fields, amenity fields, etc.  \n",
    "\n",
    "Some queries were run to see if this was the case:"
   ]
  },
  {
   "cell_type": "code",
   "execution_count": 6,
   "metadata": {
    "collapsed": false
   },
   "outputs": [
    {
     "name": "stdout",
     "output_type": "stream",
     "text": [
      "Number of nodes: 697799\n",
      "Number of data entries with position info: 697806\n",
      "Number of data entries with address info: 2804\n",
      "Number of data entries with street info: 2317\n",
      "Number of data entries with amenity info: 5065\n",
      "Number of data entries with building info: 9445\n"
     ]
    }
   ],
   "source": [
    "from pymongo import MongoClient\n",
    "import pprint\n",
    "client = MongoClient('localhost:27017')\n",
    "db = client.streetmap\n",
    "\n",
    "print \"Number of nodes:\", db.mke.find({'type':'node'}).count()\n",
    "print \"Number of data entries with position info:\", \\\n",
    "       db.mke.find({'pos': {'$exists': True}}).count()\n",
    "print \"Number of data entries with address info:\", \\\n",
    "       db.mke.find({'address': {'$exists': True}}).count()\n",
    "print \"Number of data entries with street info:\", \\\n",
    "       db.mke.find({'address.street': {'$exists': True}}).count()\n",
    "print \"Number of data entries with amenity info:\", \\\n",
    "       db.mke.find({'amenity': {'$exists': True}}).count()\n",
    "print \"Number of data entries with building info:\", \\\n",
    "       db.mke.find({'building': {'$exists': True}}).count()"
   ]
  },
  {
   "cell_type": "markdown",
   "metadata": {},
   "source": [
    "Having less than 10,000 nodes in each of these more detailed fields in a database with almost 700,000 nodes \n",
    "indicated very sparse data with respect to this more detailed information.  \n"
   ]
  },
  {
   "cell_type": "markdown",
   "metadata": {},
   "source": [
    "## 2.  Overview of the Data\n",
    "\n",
    "This section will give overview data and information about the database.  \n",
    "The MongoDB queries and pymongo code used to gather this information is also given.\n",
    "\n",
    "**The size of the the original OSM XML file:**\n",
    "```\n",
    "mke.osm - 153,215 KB\n",
    "```\n",
    "**The size of the converted JSON file:**\n",
    "```\n",
    "mke.json - 173,358 KB\n",
    "```"
   ]
  },
  {
   "cell_type": "markdown",
   "metadata": {},
   "source": [
    "**General Data statistics:** "
   ]
  },
  {
   "cell_type": "code",
   "execution_count": 7,
   "metadata": {
    "collapsed": false
   },
   "outputs": [
    {
     "name": "stdout",
     "output_type": "stream",
     "text": [
      "Number of data entries in database: 776300\n",
      "Number of unique users: 626\n",
      "Number of nodes: 697799\n",
      "Number of ways: 78486\n"
     ]
    }
   ],
   "source": [
    "print \"Number of data entries in database:\", db.mke.count()\n",
    "print \"Number of unique users:\", len(db.mke.distinct(\"created.user\"))\n",
    "print \"Number of nodes:\", db.mke.find({'type':'node'}).count()\n",
    "print \"Number of ways:\", db.mke.find({'type':'way'}).count()"
   ]
  },
  {
   "cell_type": "markdown",
   "metadata": {},
   "source": [
    "**The different tags in the database were found with the program CountTags.py:**"
   ]
  },
  {
   "cell_type": "code",
   "execution_count": 12,
   "metadata": {
    "collapsed": false
   },
   "outputs": [
    {
     "name": "stdout",
     "output_type": "stream",
     "text": [
      "{'bounds': 1,\n",
      " 'member': 6579,\n",
      " 'nd': 859194,\n",
      " 'node': 697806,\n",
      " 'osm': 1,\n",
      " 'relation': 540,\n",
      " 'tag': 443856,\n",
      " 'way': 78494}\n"
     ]
    }
   ],
   "source": [
    "import xml.etree.cElementTree as ET\n",
    "\n",
    "def count_tags(filename):\n",
    "        tags = {}\n",
    "\n",
    "        for event, elem in ET.iterparse(filename, events = ('start',)):\n",
    "            if elem.tag not in tags:\n",
    "                tags[elem.tag] = 1\n",
    "            else:\n",
    "                tags[elem.tag] = tags[elem.tag] + 1\n",
    "\n",
    "        return tags\n",
    "\n",
    "tags = count_tags('mke.osm')\n",
    "pprint.pprint(tags)\n"
   ]
  },
  {
   "cell_type": "markdown",
   "metadata": {},
   "source": [
    "**Some aggregation queries were run to determine information about the makeup of the users contributing \n",
    "to the data:**"
   ]
  },
  {
   "cell_type": "code",
   "execution_count": 9,
   "metadata": {
    "collapsed": false
   },
   "outputs": [
    {
     "name": "stdout",
     "output_type": "stream",
     "text": [
      "\n",
      "Number of users with only one contribution:\n",
      "[{u'_id': 1, u'num_users': 122}]\n",
      "\n",
      "Top 5 contiributing users:\n",
      "[{u'_id': u'woodpeck_fixbot', u'count': 181244},\n",
      " {u'_id': u'ItalianMustache', u'count': 69763},\n",
      " {u'_id': u'reschultzed', u'count': 45951},\n",
      " {u'_id': u'Gary Cox', u'count': 32553},\n",
      " {u'_id': u'bbauter', u'count': 31861}]\n"
     ]
    }
   ],
   "source": [
    "##    Aggregation queries:\n",
    "\n",
    "def aggregate(db, pipeline):\n",
    "    return [doc for doc in db.mke.aggregate(pipeline)]\n",
    "\n",
    "print '\\nNumber of users with only one contribution:'\n",
    "pipeline1 = [{\"$group\": {\"_id\": \"$created.user\", \"count\": {\"$sum\": 1}}},\n",
    "             {\"$group\": {\"_id\": \"$count\", \"num_users\": {\"$sum\": 1}}},\n",
    "             {\"$sort\": {\"_id\": 1}},\n",
    "             {\"$limit\": 1}]\n",
    "result1 = aggregate(db, pipeline1)\n",
    "pprint.pprint(result1)\n",
    "\n",
    "print '\\nTop 5 contiributing users:'\n",
    "pipeline2 = [{\"$group\": {\"_id\": \"$created.user\", \"count\": {\"$sum\": 1}}},\n",
    "              {\"$sort\": {\"count\": -1}},\n",
    "              {\"$limit\": 5}]\n",
    "result2 = aggregate(db, pipeline2)\n",
    "pprint.pprint(result2)"
   ]
  },
  {
   "cell_type": "markdown",
   "metadata": {},
   "source": [
    "## 3. Other Additional Ideas\n",
    "\n",
    "\n",
    "### A. Ways to improve the data\n",
    "\n",
    "One area for improvement to the database would be the addition of more detail to the data.  Modern \n",
    "maps not only give street and highway directions, but it is commonly expected that certain \n",
    "amenities and other local information are given too.  Some examples a traveler or visitor to \n",
    "a new area would be interested in include:  restaurants, museums, zoos, golf courses, night clubs, \n",
    "places of worship, etc.  The Milwaukee metropolitan area consists of greater than 2 million people\n",
    "(https://en.wikipedia.org/wiki/Milwaukee), so it would seem obvious that there are many more than 5065 \n",
    "amenities in the area.  \n",
    "\n",
    "One way to remedy this problem would be encourage those who own and/or run such establishments to enter that \n",
    "information into OpenStreetMaps themselves.  It would seem obvious that it would be in their self \n",
    "interest as a possible way to increase awareness and access to their shops/churches/etc.  With \n",
    "OpenStreetMaps being an open project contribution is essentially free to someone only entering one or \n",
    "two data entries.  The problem to overcome is increasing awareness of the project.  Typically the \n",
    "best way to increase awareness is through advertising, but the ability to spend money to promote an \n",
    "open project is likely to be minimal, so that is unlikely an option.  \n",
    "\n",
    "Another way to remedy that problem would be to gather data from some outside source.  The obstacle there \n",
    "is finding a source that is not proprietary.\n"
   ]
  },
  {
   "cell_type": "markdown",
   "metadata": {},
   "source": [
    "### B. Additional data exploration using MongoDB aggregation queries:"
   ]
  },
  {
   "cell_type": "code",
   "execution_count": 15,
   "metadata": {
    "collapsed": false
   },
   "outputs": [
    {
     "name": "stdout",
     "output_type": "stream",
     "text": [
      "\n",
      "Top 5 types of restaurant cuisine categories:\n",
      "[{u'_id': u'american', u'count': 29},\n",
      " {u'_id': u'pizza', u'count': 28},\n",
      " {u'_id': u'italian', u'count': 23},\n",
      " {u'_id': u'chinese', u'count': 15},\n",
      " {u'_id': u'mexican', u'count': 14}]\n",
      "\n",
      "Top 5 types of buildings:\n",
      "[{u'_id': u'yes', u'count': 5963},\n",
      " {u'_id': u'house', u'count': 755},\n",
      " {u'_id': u'apartments', u'count': 592},\n",
      " {u'_id': u'commercial', u'count': 458},\n",
      " {u'_id': u'garage', u'count': 356}]\n",
      "\n",
      "Top 5 types of amenities:\n",
      "[{u'_id': u'parking', u'count': 1800},\n",
      " {u'_id': u'school', u'count': 905},\n",
      " {u'_id': u'restaurant', u'count': 385},\n",
      " {u'_id': u'fast_food', u'count': 202},\n",
      " {u'_id': u'fuel', u'count': 164}]\n"
     ]
    }
   ],
   "source": [
    "print '\\nTop 5 types of restaurant cuisine categories:'\n",
    "pipeline3 = [{\"$match\": {\"amenity\": {\"$exists\": 1}, \n",
    "                         \"cuisine\":{\"$exists\": 1}, \n",
    "                         \"amenity\": \"restaurant\"}},\n",
    "             {\"$group\": {\"_id\": \"$cuisine\",  \"count\": {\"$sum\": 1}}},\n",
    "             {\"$sort\": {\"count\": -1}},\n",
    "             {\"$limit\": 5}]\n",
    "result3 = aggregate(db, pipeline3)\n",
    "pprint.pprint(result3)\n",
    "\n",
    "print '\\nTop 5 types of buildings:'\n",
    "pipeline4 = [{'$match': {'building': {'$exists': 1}}},\n",
    "             {'$group': {'_id': '$building', 'count': {'$sum': 1}}},\n",
    "             {'$sort': {'count': -1}},\n",
    "             {'$limit': 5}]\n",
    "result4 = aggregate(db, pipeline4)\n",
    "pprint.pprint(result4)\n",
    "\n",
    "print '\\nTop 5 types of amenities:'\n",
    "pipeline5 = [{'$match': {'amenity': {'$exists': 1}}},\n",
    "             {'$group': {'_id': '$amenity', 'count': {'$sum': 1}}},\n",
    "             {'$sort': {'count': -1}},\n",
    "             {'$limit': 5}]\n",
    "result5 = aggregate(db, pipeline5)\n",
    "pprint.pprint(result5)"
   ]
  },
  {
   "cell_type": "markdown",
   "metadata": {
    "collapsed": true
   },
   "source": [
    "### C. Conclusion\n",
    "\n",
    "As is likely to be expected in an open database project, this data is raw and incomplete.  Although the\n",
    "Milwaukee metropolitan area is relatively large (5th largest in the Midwest United States: \n",
    "https://en.wikipedia.org/wiki/Milwaukee) much of the detailed data common to many modern maps is missing. \n",
    "It will be interesting to see how the project progresses in the future.  "
   ]
  }
 ],
 "metadata": {
  "kernelspec": {
   "display_name": "Python 2",
   "language": "python",
   "name": "python2"
  },
  "language_info": {
   "codemirror_mode": {
    "name": "ipython",
    "version": 2
   },
   "file_extension": ".py",
   "mimetype": "text/x-python",
   "name": "python",
   "nbconvert_exporter": "python",
   "pygments_lexer": "ipython2",
   "version": "2.7.10"
  }
 },
 "nbformat": 4,
 "nbformat_minor": 0
}
